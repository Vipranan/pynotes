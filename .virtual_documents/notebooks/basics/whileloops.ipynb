count = 1
while count <= 5:
    print("Count is:", count)
    count += 1


number = 1
total = 0

while number <= 50:
    if number % 2 != 0:
        number += 1
        continue  # skip odd numbers
    total += number
    number += 1

print("Sum of even numbers from 1 to 50 is:", total)



number = 1
total = 0
while number <= 20:
    if number % 2 != 0:
        number +=1
        continue
    total += number
    number += 1
print("sum of the even number from 1 to 50 i,", total)



