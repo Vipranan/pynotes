#list
fruits = ["apple", "banana", "cherry"]
print(fruits[1]) 


#array
import array
nums = array.array('i', [1, 2, 3, 4])  
print(nums[2])  


#hash map
student = {"name": "Ravi", "age": 20, "grade": "A"}
print(student["age"])  



#dictionary
student = {"name": "Ravi", "age": 20, "grade": "A"}
print(student["age"]) 



#tuple
coordinates = (10.5, 20.3)
print(coordinates[0]) 




