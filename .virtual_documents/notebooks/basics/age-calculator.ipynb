from datetime import datetime


def get_age(d):
    d1 = datetime.now()
    months = (d1.year - d.year) * 12 + d1.month - d.month

    year = int(months / 12)
    return year


age = get_age(datetime(1991, 1, 1))


age



