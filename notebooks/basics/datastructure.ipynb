{
 "cells": [
  {
   "cell_type": "code",
   "execution_count": 1,
   "id": "d15b9389-7ca8-4efe-86f1-4bf60166094b",
   "metadata": {},
   "outputs": [
    {
     "name": "stdout",
     "output_type": "stream",
     "text": [
      "banana\n"
     ]
    }
   ],
   "source": [
    "#list\n",
    "fruits = [\"apple\", \"banana\", \"cherry\"]\n",
    "print(fruits[1]) "
   ]
  },
  {
   "cell_type": "code",
   "execution_count": 2,
   "id": "31971d8d-ed8d-4e50-8d98-26e8a5e44366",
   "metadata": {},
   "outputs": [
    {
     "name": "stdout",
     "output_type": "stream",
     "text": [
      "3\n"
     ]
    }
   ],
   "source": [
    "#array\n",
    "import array\n",
    "nums = array.array('i', [1, 2, 3, 4])  \n",
    "print(nums[2])  "
   ]
  },
  {
   "cell_type": "code",
   "execution_count": 3,
   "id": "85fd0e81-4291-4e3e-93e7-c85e6d9c1c3f",
   "metadata": {},
   "outputs": [
    {
     "name": "stdout",
     "output_type": "stream",
     "text": [
      "20\n"
     ]
    }
   ],
   "source": [
    "#hash map\n",
    "student = {\"name\": \"Ravi\", \"age\": 20, \"grade\": \"A\"}\n",
    "print(student[\"age\"])  \n"
   ]
  },
  {
   "cell_type": "code",
   "execution_count": 4,
   "id": "c60fb79d-08e1-49b8-8b9f-06a9feeaa220",
   "metadata": {},
   "outputs": [
    {
     "name": "stdout",
     "output_type": "stream",
     "text": [
      "20\n"
     ]
    }
   ],
   "source": [
    "#dictionary\n",
    "student = {\"name\": \"Ravi\", \"age\": 20, \"grade\": \"A\"}\n",
    "print(student[\"age\"]) \n"
   ]
  },
  {
   "cell_type": "code",
   "execution_count": 6,
   "id": "be5253e6-df9c-4fbb-95eb-654ac0c8350c",
   "metadata": {},
   "outputs": [
    {
     "name": "stdout",
     "output_type": "stream",
     "text": [
      "10.5\n"
     ]
    }
   ],
   "source": [
    "#tuple\n",
    "coordinates = (10.5, 20.3)\n",
    "print(coordinates[0]) \n"
   ]
  },
  {
   "cell_type": "code",
   "execution_count": null,
   "id": "bbd46f0d-cf3d-485f-b140-d020cd9fa4cc",
   "metadata": {},
   "outputs": [],
   "source": []
  }
 ],
 "metadata": {
  "kernelspec": {
   "display_name": "Python 3 (ipykernel)",
   "language": "python",
   "name": "python3"
  },
  "language_info": {
   "codemirror_mode": {
    "name": "ipython",
    "version": 3
   },
   "file_extension": ".py",
   "mimetype": "text/x-python",
   "name": "python",
   "nbconvert_exporter": "python",
   "pygments_lexer": "ipython3",
   "version": "3.11.7"
  }
 },
 "nbformat": 4,
 "nbformat_minor": 5
}
