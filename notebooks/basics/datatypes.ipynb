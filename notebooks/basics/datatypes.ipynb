{
 "cells": [
  {
   "cell_type": "code",
   "execution_count": 2,
   "id": "7910a054-ff7c-43ea-90ad-4a12aceea2f0",
   "metadata": {},
   "outputs": [
    {
     "name": "stdout",
     "output_type": "stream",
     "text": [
      "25\n",
      "5.9\n",
      "Ananya\n",
      "True\n",
      "(10.0, 20.0)\n",
      "{'name': 'Ananya', 'age': 25, 'grade': 'A'}\n",
      "{1, 2, 3}\n"
     ]
    }
   ],
   "source": [
    "# Integer\n",
    "age = 25\n",
    "print(age)\n",
    "\n",
    "# Float\n",
    "height = 5.9\n",
    "print(height)\n",
    "\n",
    "# String\n",
    "name = \"Ananya\"\n",
    "print(name)\n",
    "\n",
    "# Boolean\n",
    "is_student = True\n",
    "print(is_student)\n",
    "# List\n",
    "fruits = [\"apple\", \"banana\", \"cherry\"]\n",
    "\n",
    "# Tuple\n",
    "coordinates = (10.0, 20.0)\n",
    "print(coordinates)\n",
    "\n",
    "# Dictionary\n",
    "student = {\"name\": \"Ananya\", \"age\": 25, \"grade\": \"A\"}\n",
    "print(student)\n",
    "\n",
    "# Set\n",
    "unique_numbers = {1, 2, 3, 2, 1}  # duplicates will be removed\n",
    "print(unique_numbers)"
   ]
  },
  {
   "cell_type": "code",
   "execution_count": null,
   "id": "bc79d103-1019-4817-a578-c74c7a91f918",
   "metadata": {},
   "outputs": [],
   "source": []
  }
 ],
 "metadata": {
  "kernelspec": {
   "display_name": "Python 3 (ipykernel)",
   "language": "python",
   "name": "python3"
  },
  "language_info": {
   "codemirror_mode": {
    "name": "ipython",
    "version": 3
   },
   "file_extension": ".py",
   "mimetype": "text/x-python",
   "name": "python",
   "nbconvert_exporter": "python",
   "pygments_lexer": "ipython3",
   "version": "3.11.7"
  }
 },
 "nbformat": 4,
 "nbformat_minor": 5
}
