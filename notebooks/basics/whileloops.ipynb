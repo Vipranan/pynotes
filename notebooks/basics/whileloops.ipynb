{
 "cells": [
  {
   "cell_type": "code",
   "execution_count": 1,
   "id": "d5d216b0-d861-4d93-9b4a-f057d7985a00",
   "metadata": {},
   "outputs": [
    {
     "name": "stdout",
     "output_type": "stream",
     "text": [
      "Count is: 1\n",
      "Count is: 2\n",
      "Count is: 3\n",
      "Count is: 4\n",
      "Count is: 5\n"
     ]
    }
   ],
   "source": [
    "count = 1\n",
    "while count <= 5:\n",
    "    print(\"Count is:\", count)\n",
    "    count += 1"
   ]
  },
  {
   "cell_type": "code",
   "execution_count": 2,
   "id": "f9867a8e-4dd5-491f-8732-df21b395b59d",
   "metadata": {},
   "outputs": [
    {
     "name": "stdout",
     "output_type": "stream",
     "text": [
      "Sum of even numbers from 1 to 50 is: 650\n"
     ]
    }
   ],
   "source": [
    "number = 1\n",
    "total = 0\n",
    "\n",
    "while number <= 50:\n",
    "    if number % 2 != 0:\n",
    "        number += 1\n",
    "        continue  # skip odd numbers\n",
    "    total += number\n",
    "    number += 1\n",
    "\n",
    "print(\"Sum of even numbers from 1 to 50 is:\", total)\n"
   ]
  },
  {
   "cell_type": "code",
   "execution_count": 3,
   "id": "c328b197-5070-421f-bf6c-3a078153db5d",
   "metadata": {},
   "outputs": [
    {
     "name": "stdout",
     "output_type": "stream",
     "text": [
      "sum of the even number from 1 to 50 i, 110\n"
     ]
    }
   ],
   "source": [
    "number = 1\n",
    "total = 0\n",
    "while number <= 20:\n",
    "    if number % 2 != 0:\n",
    "        number +=1\n",
    "        continue\n",
    "    total += number\n",
    "    number += 1\n",
    "print(\"sum of the even number from 1 to 50 i,\", total)"
   ]
  },
  {
   "cell_type": "code",
   "execution_count": null,
   "id": "d9ef3ede-8f84-4c1d-81ee-8797c4ba02d1",
   "metadata": {},
   "outputs": [],
   "source": []
  }
 ],
 "metadata": {
  "kernelspec": {
   "display_name": "Python 3 (ipykernel)",
   "language": "python",
   "name": "python3"
  },
  "language_info": {
   "codemirror_mode": {
    "name": "ipython",
    "version": 3
   },
   "file_extension": ".py",
   "mimetype": "text/x-python",
   "name": "python",
   "nbconvert_exporter": "python",
   "pygments_lexer": "ipython3",
   "version": "3.11.7"
  }
 },
 "nbformat": 4,
 "nbformat_minor": 5
}
