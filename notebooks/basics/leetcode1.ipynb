{
 "cells": [
  {
   "cell_type": "code",
   "execution_count": null,
   "id": "e7396817-b70f-4abf-8bd0-f19ad03fa473",
   "metadata": {},
   "outputs": [],
   "source": [
    "class solution:\n",
    "    def twosum(self, num: list[int], target: int) ->list[int]:\n",
    "        num_dict={}\n",
    "        for i, num in enumerate{nums}:\n",
    "        "
   ]
  }
 ],
 "metadata": {
  "kernelspec": {
   "display_name": "Python 3 (ipykernel)",
   "language": "python",
   "name": "python3"
  },
  "language_info": {
   "codemirror_mode": {
    "name": "ipython",
    "version": 3
   },
   "file_extension": ".py",
   "mimetype": "text/x-python",
   "name": "python",
   "nbconvert_exporter": "python",
   "pygments_lexer": "ipython3",
   "version": "3.11.7"
  }
 },
 "nbformat": 4,
 "nbformat_minor": 5
}
